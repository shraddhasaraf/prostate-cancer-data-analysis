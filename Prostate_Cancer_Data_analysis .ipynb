{
 "cells": [
  {
   "cell_type": "markdown",
   "id": "b3f86aa6-4d95-4b30-a0dd-cc894ef2332e",
   "metadata": {
    "panel-layout": {
     "height": 50.09375,
     "visible": true,
     "width": 100
    }
   },
   "source": [
    "## Importing Libraries"
   ]
  },
  {
   "cell_type": "code",
   "execution_count": 1,
   "id": "ede2b712-7cc2-4eda-acde-b9f6e86a9c7b",
   "metadata": {},
   "outputs": [],
   "source": [
    "import pandas as pd\n",
    "import seaborn as sns\n",
    "import numpy as np\n",
    "from typing import List, Any, NamedTuple\n",
    "import operator\n",
    "import matplotlib.pyplot as plt\n",
    "from sklearn.naive_bayes import GaussianNB\n",
    "from sklearn.model_selection import train_test_split\n",
    "from sklearn.metrics import accuracy_score, precision_score, recall_score, confusion_matrix, classification_report\n",
    "import nltk\n",
    "from nltk.tokenize import word_tokenize\n",
    "from nltk.corpus import stopwords\n",
    "from nltk.classify import NaiveBayesClassifier\n",
    "import re\n",
    "from nltk.stem import PorterStemmer"
   ]
  },
  {
   "cell_type": "markdown",
   "id": "a556e3e4-5f87-481b-a9a6-600a0b0ff7a0",
   "metadata": {
    "panel-layout": {
     "height": 50.09375,
     "visible": true,
     "width": 100
    }
   },
   "source": [
    "## Functions and Class Definitions"
   ]
  },
  {
   "cell_type": "code",
   "execution_count": 3,
   "id": "fc0c8a91-1708-40e6-a735-cc8a4e7e53ca",
   "metadata": {},
   "outputs": [],
   "source": [
    "#Defining a class structure\n",
    "class Event(NamedTuple):\n",
    "    column_name: str\n",
    "    value: Any\n",
    "    opt: Any\n",
    "\n",
    "operator_mapping = {\n",
    "    '==': operator.eq,\n",
    "    '<': operator.lt,\n",
    "    '>': operator.gt,\n",
    "    '<=': operator.le,\n",
    "    '>=': operator.ge\n",
    "}"
   ]
  },
  {
   "cell_type": "code",
   "execution_count": 4,
   "id": "5be19da4-7226-4520-8915-9f8ba6e6fb23",
   "metadata": {},
   "outputs": [],
   "source": [
    "#Function for probability\n",
    "def probability(df: pd.DataFrame, event: Event) -> float:\n",
    "    \"\"\"\n",
    "    To calculate probabilty of an event\n",
    "    params:\n",
    "        df: data represented in form of a Dataframe\n",
    "        event: the event details\n",
    "    return:\n",
    "        ans: probabilty of the event occuring\n",
    "    \"\"\"\n",
    "    if event.column_name not in df.columns:\n",
    "        raise Exception(\"column not found\")\n",
    "    ans = (operator_mapping[event.opt](df[event.column_name], event.value)).sum()/len(df)\n",
    "    return ans"
   ]
  },
  {
   "cell_type": "code",
   "execution_count": 5,
   "id": "d686f353-9992-4bbb-b1e9-351743f75efe",
   "metadata": {},
   "outputs": [],
   "source": [
    "#function for Conditional Probability\n",
    "def conditional_probability(df: pd.DataFrame, event: Event, given_event: List[Event]) -> float:\n",
    "    \"\"\"\n",
    "    To calculate conditional probabilty of an event occuring for the given features  \n",
    "    params:\n",
    "        df: data represented in form of a Dataframe\n",
    "        event: the event details\n",
    "        given_event: list of events that have already occured\n",
    "    return:\n",
    "        ans: conditional probabilty of the event occuring\n",
    "    \"\"\"\n",
    "    condition_b= True\n",
    "    condition_a= operator_mapping[event.opt](df[event.column_name], event.value)\n",
    "    for i in range(len(given_event)):\n",
    "        condition_b= condition_b & ( operator_mapping[given_event[i].opt](df[given_event[i].column_name], given_event[i].value))\n",
    "        condition_a= condition_a & ( operator_mapping[given_event[i].opt](df[given_event[i].column_name], given_event[i].value))\n",
    "    return condition_a.sum()/ condition_b.sum()\n"
   ]
  },
  {
   "cell_type": "markdown",
   "id": "33c247f9-f85b-491e-b0fd-29375c8f0e6e",
   "metadata": {
    "panel-layout": {
     "height": 44.03125,
     "visible": true,
     "width": 100
    }
   },
   "source": [
    "### Global Definitions"
   ]
  },
  {
   "cell_type": "code",
   "execution_count": 7,
   "id": "7a658c75-795d-4c32-b243-67d745c5b200",
   "metadata": {},
   "outputs": [],
   "source": [
    "# Dataframe of the given data\n",
    "df= pd.read_excel(r'Prostate_Cancer_Data.xlsx')\n",
    "\n",
    "# Color pallette for the diagrams\n",
    "colors= sns.color_palette('pastel')[0:10]"
   ]
  },
  {
   "cell_type": "code",
   "execution_count": 13,
   "id": "6d5db9d4-d0c6-405a-a18b-f21d8fa0eccc",
   "metadata": {},
   "outputs": [
    {
     "data": {
      "text/html": [
       "<div>\n",
       "<style scoped>\n",
       "    .dataframe tbody tr th:only-of-type {\n",
       "        vertical-align: middle;\n",
       "    }\n",
       "\n",
       "    .dataframe tbody tr th {\n",
       "        vertical-align: top;\n",
       "    }\n",
       "\n",
       "    .dataframe thead th {\n",
       "        text-align: right;\n",
       "    }\n",
       "</style>\n",
       "<table border=\"1\" class=\"dataframe\">\n",
       "  <thead>\n",
       "    <tr style=\"text-align: right;\">\n",
       "      <th></th>\n",
       "      <th>Gender</th>\n",
       "      <th>Smoking</th>\n",
       "      <th>Prostate Volume</th>\n",
       "      <th>PSA Level</th>\n",
       "      <th>Age</th>\n",
       "      <th>Prostate Cancer</th>\n",
       "    </tr>\n",
       "  </thead>\n",
       "  <tbody>\n",
       "    <tr>\n",
       "      <th>0</th>\n",
       "      <td>Male</td>\n",
       "      <td>Yes</td>\n",
       "      <td>High</td>\n",
       "      <td>High</td>\n",
       "      <td>72</td>\n",
       "      <td>Yes</td>\n",
       "    </tr>\n",
       "    <tr>\n",
       "      <th>1</th>\n",
       "      <td>Female</td>\n",
       "      <td>No</td>\n",
       "      <td>Medium</td>\n",
       "      <td>Low</td>\n",
       "      <td>45</td>\n",
       "      <td>No</td>\n",
       "    </tr>\n",
       "    <tr>\n",
       "      <th>2</th>\n",
       "      <td>Male</td>\n",
       "      <td>Yes</td>\n",
       "      <td>High</td>\n",
       "      <td>High</td>\n",
       "      <td>68</td>\n",
       "      <td>Yes</td>\n",
       "    </tr>\n",
       "    <tr>\n",
       "      <th>3</th>\n",
       "      <td>Male</td>\n",
       "      <td>No</td>\n",
       "      <td>Low</td>\n",
       "      <td>Medium</td>\n",
       "      <td>60</td>\n",
       "      <td>No</td>\n",
       "    </tr>\n",
       "    <tr>\n",
       "      <th>4</th>\n",
       "      <td>Female</td>\n",
       "      <td>No</td>\n",
       "      <td>Medium</td>\n",
       "      <td>Low</td>\n",
       "      <td>55</td>\n",
       "      <td>No</td>\n",
       "    </tr>\n",
       "  </tbody>\n",
       "</table>\n",
       "</div>"
      ],
      "text/plain": [
       "   Gender Smoking Prostate Volume PSA Level  Age Prostate Cancer \n",
       "0    Male     Yes            High      High   72              Yes\n",
       "1  Female      No          Medium       Low   45               No\n",
       "2    Male     Yes            High      High   68              Yes\n",
       "3    Male      No             Low    Medium   60               No\n",
       "4  Female      No          Medium       Low   55               No"
      ]
     },
     "execution_count": 13,
     "metadata": {},
     "output_type": "execute_result"
    }
   ],
   "source": [
    "df.head()"
   ]
  },
  {
   "cell_type": "markdown",
   "id": "d6d448b8-eb9e-4c86-ac7d-8333209d25fe",
   "metadata": {
    "panel-layout": {
     "height": 44.03125,
     "visible": true,
     "width": 100
    }
   },
   "source": [
    "### Q1. What is the percentage of patients diagnosed with prostate cancer, P (prostate cancer = Yes)?"
   ]
  },
  {
   "cell_type": "code",
   "execution_count": 14,
   "id": "24d7c071-291f-44bb-81b2-f1b4c6a1f3b5",
   "metadata": {
    "panel-layout": {
     "height": 27,
     "visible": true,
     "width": 100
    }
   },
   "outputs": [
    {
     "data": {
      "text/plain": [
       "64.0"
      ]
     },
     "execution_count": 14,
     "metadata": {},
     "output_type": "execute_result"
    }
   ],
   "source": [
    "st = Event(column_name='Prostate Cancer ', value='Yes', opt = '==')\n",
    "percentage_of_prostate_cancer= probability(df, st) *100\n",
    "percentage_of_prostate_cancer"
   ]
  },
  {
   "cell_type": "code",
   "execution_count": 16,
   "id": "c3cee82f-4ab5-4bd3-b594-db4d1a1c6336",
   "metadata": {},
   "outputs": [],
   "source": [
    "# The percentage of people diagnosed with prostate cancer is 64%"
   ]
  },
  {
   "cell_type": "markdown",
   "id": "2ff31b76-d664-4a5a-80c9-c6c85f95447b",
   "metadata": {
    "panel-layout": {
     "height": 44.03125,
     "visible": true,
     "width": 100
    }
   },
   "source": [
    "### Q2. What is the probability that a patient who smokes will develop prostate cancer, P (Prostate Cancer = Yes | Smoking = Yes)?"
   ]
  },
  {
   "cell_type": "code",
   "execution_count": 19,
   "id": "1b272300-7639-4600-8b8d-4a634b8e38a7",
   "metadata": {
    "panel-layout": {
     "height": 27,
     "visible": true,
     "width": 100
    }
   },
   "outputs": [
    {
     "data": {
      "text/plain": [
       "0.88"
      ]
     },
     "execution_count": 19,
     "metadata": {},
     "output_type": "execute_result"
    }
   ],
   "source": [
    "# P(Prostate Cancer= yes | Smoking= yes) = P (B|A)* P(A)/ P(B)\n",
    "\n",
    "condition= Event(column_name='Prostate Cancer ', value='Yes', opt = '==')\n",
    "given= Event(column_name='Smoking', value='Yes', opt = '==')\n",
    "conditional_probability_Prostate_yes_smoking_yes= conditional_probability(df, condition, [given])\n",
    "conditional_probability_Prostate_yes_smoking_yes"
   ]
  },
  {
   "cell_type": "code",
   "execution_count": 21,
   "id": "5a6ffaee-6a66-448a-9d83-a597b527f853",
   "metadata": {},
   "outputs": [],
   "source": [
    "# The probability of person diagnosed with prostate cancer given he smokes is 0.88"
   ]
  },
  {
   "cell_type": "markdown",
   "id": "a2452342-fc5b-48e6-9b3b-3e62e9aabdc6",
   "metadata": {
    "panel-layout": {
     "height": 44.03125,
     "visible": true,
     "width": 100
    }
   },
   "source": [
    "### Q3. What is the probability that a non-smoker with a high PSA level has prostate cancer? P (Prostate Cancer = Yes | Smoking = No, PSA level = High)\n"
   ]
  },
  {
   "cell_type": "code",
   "execution_count": 24,
   "id": "7dde85ba-846e-42e8-9453-96fb987e5a62",
   "metadata": {
    "panel-layout": {
     "height": 27,
     "visible": true,
     "width": 100
    }
   },
   "outputs": [
    {
     "data": {
      "text/plain": [
       "1.0"
      ]
     },
     "execution_count": 24,
     "metadata": {},
     "output_type": "execute_result"
    }
   ],
   "source": [
    "condition= Event(column_name='Prostate Cancer ', value='Yes', opt = '==')\n",
    "given1= Event(column_name ='Smoking', value='No', opt = '==')\n",
    "given2= Event(column_name ='PSA Level', value='High', opt = '==')\n",
    "conditional_probability_Prostate_yes_smoking_yes_psa_high = conditional_probability(df, condition, [given1, given2])\n",
    "conditional_probability_Prostate_yes_smoking_yes_psa_high"
   ]
  },
  {
   "cell_type": "code",
   "execution_count": 26,
   "id": "c19c549d-caaa-4cc1-8d95-b912a431414e",
   "metadata": {},
   "outputs": [],
   "source": [
    "# The probability of person diagnosed with prostate cancer given he smokes and has high PSA level is 1"
   ]
  },
  {
   "cell_type": "markdown",
   "id": "fa07af43-f5d0-4a03-9dc0-7251b31d15a6",
   "metadata": {
    "panel-layout": {
     "height": 64.03125,
     "visible": true,
     "width": 100
    }
   },
   "source": [
    "### Q4. What is the probability that a person with medium prostate volume and age over 60 has prostate cancer? P (Prostate Cancer = Yes | Age >60, Prostate Volume = Medium)"
   ]
  },
  {
   "cell_type": "code",
   "execution_count": 29,
   "id": "8768b18d-c4a2-49b9-918e-d1933be05ea1",
   "metadata": {
    "panel-layout": {
     "height": 27,
     "visible": true,
     "width": 100
    }
   },
   "outputs": [
    {
     "data": {
      "text/plain": [
       "1.0"
      ]
     },
     "execution_count": 29,
     "metadata": {},
     "output_type": "execute_result"
    }
   ],
   "source": [
    "condition= Event(column_name='Prostate Cancer ', value='Yes', opt = '==')\n",
    "given1= Event(column_name='Age', value= 60, opt = '>')\n",
    "given2= Event(column_name='Prostate Volume', value='Medium', opt = '==')\n",
    "conditional_probability_Prostate_yes_age_60_pvolume_medium = conditional_probability(df, condition, [given1, given2])\n",
    "conditional_probability_Prostate_yes_age_60_pvolume_medium"
   ]
  },
  {
   "cell_type": "code",
   "execution_count": 31,
   "id": "bbbe42cd-65bc-4578-a3d4-87c33f3c1737",
   "metadata": {},
   "outputs": [],
   "source": [
    "# The probability of person diagnosed with prostate cancer given he is above 60 and his protate volume is Medium is 1"
   ]
  },
  {
   "cell_type": "markdown",
   "id": "f1cbab90-e88e-4b8f-8906-e7e044027a17",
   "metadata": {
    "panel-layout": {
     "height": 44.03125,
     "visible": true,
     "width": 100
    }
   },
   "source": [
    "### Q5. What is the probability that a male has prostate cancer?"
   ]
  },
  {
   "cell_type": "code",
   "execution_count": 34,
   "id": "c8983405-d64f-4e6d-a5cd-f73741d46afc",
   "metadata": {
    "panel-layout": {
     "height": 27,
     "visible": true,
     "width": 100
    }
   },
   "outputs": [
    {
     "data": {
      "text/plain": [
       "0.7037037037037037"
      ]
     },
     "execution_count": 34,
     "metadata": {},
     "output_type": "execute_result"
    }
   ],
   "source": [
    "condition= Event(column_name='Prostate Cancer ', value='Yes', opt = '==')\n",
    "given= Event(column_name='Gender', value='Male', opt = '==')\n",
    "conditional_probability_Prostate_yes_gender_male = conditional_probability(df, condition, [given])\n",
    "conditional_probability_Prostate_yes_gender_male"
   ]
  },
  {
   "cell_type": "code",
   "execution_count": 36,
   "id": "f9c5bcea-44c1-4561-8a80-a6238a76bf41",
   "metadata": {},
   "outputs": [],
   "source": [
    "# The probability of person diagnosed with prostate cancer given he is male is 0.7037037037037037"
   ]
  },
  {
   "cell_type": "markdown",
   "id": "3ddac208-d7c6-426f-acec-be258496b9fa",
   "metadata": {
    "panel-layout": {
     "height": 44.03125,
     "visible": true,
     "width": 100
    }
   },
   "source": [
    "### Q6. Determine the significance of the prostate volume feature when predicting prostate cancer (Prostate cancer = Yes) as the target variable."
   ]
  },
  {
   "cell_type": "code",
   "execution_count": 39,
   "id": "7dc0159d-777e-40da-8866-e34c24f9f2f4",
   "metadata": {
    "panel-layout": {
     "height": 27,
     "visible": true,
     "width": 100
    }
   },
   "outputs": [
    {
     "data": {
      "text/plain": [
       "0.8235294117647058"
      ]
     },
     "execution_count": 39,
     "metadata": {},
     "output_type": "execute_result"
    }
   ],
   "source": [
    "condition= Event(column_name='Prostate Cancer ', value='Yes', opt = '==')\n",
    "given= Event(column_name='Prostate Volume', value='High', opt = '==')\n",
    "conditional_probability_Prostate_yes_PVolume_high= conditional_probability(df, condition, [given])\n",
    "conditional_probability_Prostate_yes_PVolume_high"
   ]
  },
  {
   "cell_type": "code",
   "execution_count": 41,
   "id": "1ac6be20-247a-4abf-808a-e418e860bea9",
   "metadata": {
    "panel-layout": {
     "height": 27,
     "visible": true,
     "width": 100
    }
   },
   "outputs": [
    {
     "data": {
      "text/plain": [
       "0.7647058823529411"
      ]
     },
     "execution_count": 41,
     "metadata": {},
     "output_type": "execute_result"
    }
   ],
   "source": [
    "condition= Event(column_name='Prostate Cancer ', value='Yes', opt = '==')\n",
    "given= Event(column_name='Prostate Volume', value='Medium', opt = '==')\n",
    "conditional_probability_Prostate_yes_PVolume_medium= conditional_probability(df, condition, [given])\n",
    "conditional_probability_Prostate_yes_PVolume_medium"
   ]
  },
  {
   "cell_type": "code",
   "execution_count": 43,
   "id": "7f1ee6b5-787c-467b-a6bf-10d903c94618",
   "metadata": {
    "panel-layout": {
     "height": 27,
     "visible": true,
     "width": 100
    }
   },
   "outputs": [
    {
     "data": {
      "text/plain": [
       "0.3125"
      ]
     },
     "execution_count": 43,
     "metadata": {},
     "output_type": "execute_result"
    }
   ],
   "source": [
    "condition= Event(column_name='Prostate Cancer ', value='Yes', opt = '==')\n",
    "given= Event(column_name='Prostate Volume', value='Low', opt = '==')\n",
    "conditional_probability_Prostate_yes_PVolume_low = conditional_probability(df, condition, [given])\n",
    "conditional_probability_Prostate_yes_PVolume_low"
   ]
  },
  {
   "cell_type": "code",
   "execution_count": 45,
   "id": "4e5b4aa7-74c3-44e1-9070-34afb9e5bf09",
   "metadata": {},
   "outputs": [
    {
     "data": {
      "image/png": "[encoded data removed]",
      "text/plain": [
       "<Figure size 640x480 with 1 Axes>"
      ]
     },
     "metadata": {},
     "output_type": "display_data"
    }
   ],
   "source": [
    "# Pie chart to depict the feature importance for better explanation\n",
    "data= {\"High\": conditional_probability_Prostate_yes_PVolume_high, \"Medium\" : conditional_probability_Prostate_yes_PVolume_medium, \n",
    "       \"Low\" : conditional_probability_Prostate_yes_PVolume_low}\n",
    "Protate_Volume= data.keys()\n",
    "Probability= data.values()\n",
    "plt.bar(Protate_Volume, Probability, color =colors)\n",
    "plt.xlabel('Prostate Volume')\n",
    "plt.ylabel('Probability')\n",
    "plt.title('Probability of people getting prostate cancer based on prostate volume');"
   ]
  },
  {
   "cell_type": "code",
   "execution_count": 47,
   "id": "0f8b5e07-65f0-4b19-b1ee-afd326941748",
   "metadata": {},
   "outputs": [],
   "source": [
    "# As we can see the prostate volume being high increases the probability of prostate cancer"
   ]
  },
  {
   "cell_type": "markdown",
   "id": "f22eb851-926e-43f5-a593-beae1d1654fb",
   "metadata": {
    "panel-layout": {
     "height": 44.03125,
     "visible": true,
     "width": 100
    }
   },
   "source": [
    "### Q7. What percentage of patients are diagnosed with prostate cancer, and what percentage are not? Display the results using both a pie chart and a bar chart."
   ]
  },
  {
   "cell_type": "code",
   "execution_count": 50,
   "id": "ffa76313-2197-4653-9cf9-d2c2f1af9611",
   "metadata": {},
   "outputs": [
    {
     "data": {
      "image/png": "[encoded data removed]",
      "text/plain": [
       "<Figure size 640x480 with 1 Axes>"
      ]
     },
     "metadata": {},
     "output_type": "display_data"
    }
   ],
   "source": [
    "percentage_of_not_prostate_cancer= 100- percentage_of_prostate_cancer\n",
    "percentage_of_not_prostate_cancer\n",
    "data= {\"YES\": percentage_of_prostate_cancer, \"NO\" : percentage_of_not_prostate_cancer}\n",
    "result= data.keys()\n",
    "percentage= data.values()\n",
    "plt.bar(result, percentage, color =colors)\n",
    "plt.xlabel('Prostrate Cancer')\n",
    "plt.ylabel('Percentage')\n",
    "plt.title('Percentage of people with prostrate cancer');"
   ]
  },
  {
   "cell_type": "code",
   "execution_count": 52,
   "id": "cabf1f51-c570-4109-b6b8-d6a82b99f9ff",
   "metadata": {
    "panel-layout": {
     "height": 701,
     "visible": true,
     "width": 100
    }
   },
   "outputs": [
    {
     "data": {
      "image/png": "[encoded data removed]",
      "text/plain": [
       "<Figure size 640x480 with 1 Axes>"
      ]
     },
     "metadata": {},
     "output_type": "display_data"
    }
   ],
   "source": [
    "plt.pie(percentage, labels= result, colors= colors, autopct= '%1.1f%%')\n",
    "plt.title(\"Percentage of people with prostrate cancer\")\n",
    "plt.show()"
   ]
  },
  {
   "cell_type": "markdown",
   "id": "4d9cb47e-99bc-471b-97a1-e6bbd50c5da0",
   "metadata": {
    "panel-layout": {
     "height": 64.03125,
     "visible": true,
     "width": 100
    }
   },
   "source": [
    "### Q8. Suppose we want to predict the prostate cancer status (Yes or No) for three new patients. The features for these patients are provided in the table below. Assume that 80% of the dataset is used for training and the remaining 20% for testing."
   ]
  },
  {
   "cell_type": "code",
   "execution_count": 55,
   "id": "ebbcc651-8201-41e4-8ede-981d81cb5263",
   "metadata": {},
   "outputs": [],
   "source": [
    "df['Gender'] = df['Gender'].map({'Male': 1, 'Female': 0})\n",
    "df['Smoking'] = df['Smoking'].map({'Yes': 1, 'No': 0})\n",
    "df['Prostate Volume'] = df['Prostate Volume'].map({'Low': 1, 'Medium': 2, 'High': 3})\n",
    "df['PSA Level'] = df['PSA Level'].map({'Low': 1, 'Medium': 2, 'High': 3})\n",
    "df['Prostate Cancer '] = df['Prostate Cancer '].map({'Yes': 1, 'No': 0})\n",
    "X=df.drop('Prostate Cancer ', axis=1)\n",
    "y=df.loc[:,'Prostate Cancer ']\n",
    "Xtrain, Xtest, ytrain, ytest=train_test_split(X,y, test_size=0.2, random_state=42)\n",
    "model=GaussianNB()"
   ]
  },
  {
   "cell_type": "code",
   "execution_count": 57,
   "id": "726253d3-2049-4646-bf10-95b467a9c963",
   "metadata": {
    "panel-layout": {
     "height": 770,
     "visible": true,
     "width": 100
    }
   },
   "outputs": [
    {
     "data": {
      "text/html": [
       "<style>#sk-container-id-1 {\n",
       "  /* Definition of color scheme common for light and dark mode */\n",
       "  --sklearn-color-text: black;\n",
       "  --sklearn-color-line: gray;\n",
       "  /* Definition of color scheme for unfitted estimators */\n",
       "  --sklearn-color-unfitted-level-0: #fff5e6;\n",
       "  --sklearn-color-unfitted-level-1: #f6e4d2;\n",
       "  --sklearn-color-unfitted-level-2: #ffe0b3;\n",
       "  --sklearn-color-unfitted-level-3: chocolate;\n",
       "  /* Definition of color scheme for fitted estimators */\n",
       "  --sklearn-color-fitted-level-0: #f0f8ff;\n",
       "  --sklearn-color-fitted-level-1: #d4ebff;\n",
       "  --sklearn-color-fitted-level-2: #b3dbfd;\n",
       "  --sklearn-color-fitted-level-3: cornflowerblue;\n",
       "\n",
       "  /* Specific color for light theme */\n",
       "  --sklearn-color-text-on-default-background: var(--sg-text-color, var(--theme-code-foreground, var(--jp-content-font-color1, black)));\n",
       "  --sklearn-color-background: var(--sg-background-color, var(--theme-background, var(--jp-layout-color0, white)));\n",
       "  --sklearn-color-border-box: var(--sg-text-color, var(--theme-code-foreground, var(--jp-content-font-color1, black)));\n",
       "  --sklearn-color-icon: #696969;\n",
       "\n",
       "  @media (prefers-color-scheme: dark) {\n",
       "    /* Redefinition of color scheme for dark theme */\n",
       "    --sklearn-color-text-on-default-background: var(--sg-text-color, var(--theme-code-foreground, var(--jp-content-font-color1, white)));\n",
       "    --sklearn-color-background: var(--sg-background-color, var(--theme-background, var(--jp-layout-color0, #111)));\n",
       "    --sklearn-color-border-box: var(--sg-text-color, var(--theme-code-foreground, var(--jp-content-font-color1, white)));\n",
       "    --sklearn-color-icon: #878787;\n",
       "  }\n",
       "}\n",
       "\n",
       "#sk-container-id-1 {\n",
       "  color: var(--sklearn-color-text);\n",
       "}\n",
       "\n",
       "#sk-container-id-1 pre {\n",
       "  padding: 0;\n",
       "}\n",
       "\n",
       "#sk-container-id-1 input.sk-hidden--visually {\n",
       "  border: 0;\n",
       "  clip: rect(1px 1px 1px 1px);\n",
       "  clip: rect(1px, 1px, 1px, 1px);\n",
       "  height: 1px;\n",
       "  margin: -1px;\n",
       "  overflow: hidden;\n",
       "  padding: 0;\n",
       "  position: absolute;\n",
       "  width: 1px;\n",
       "}\n",
       "\n",
       "#sk-container-id-1 div.sk-dashed-wrapped {\n",
       "  border: 1px dashed var(--sklearn-color-line);\n",
       "  margin: 0 0.4em 0.5em 0.4em;\n",
       "  box-sizing: border-box;\n",
       "  padding-bottom: 0.4em;\n",
       "  background-color: var(--sklearn-color-background);\n",
       "}\n",
       "\n",
       "#sk-container-id-1 div.sk-container {\n",
       "  /* jupyter's `normalize.less` sets `[hidden] { display: none; }`\n",
       "     but bootstrap.min.css set `[hidden] { display: none !important; }`\n",
       "     so we also need the `!important` here to be able to override the\n",
       "     default hidden behavior on the sphinx rendered scikit-learn.org.\n",
       "     See: https://github.com/scikit-learn/scikit-learn/issues/21755 */\n",
       "  display: inline-block !important;\n",
       "  position: relative;\n",
       "}\n",
       "\n",
       "#sk-container-id-1 div.sk-text-repr-fallback {\n",
       "  display: none;\n",
       "}\n",
       "\n",
       "div.sk-parallel-item,\n",
       "div.sk-serial,\n",
       "div.sk-item {\n",
       "  /* draw centered vertical line to link estimators */\n",
       "  background-image: linear-gradient(var(--sklearn-color-text-on-default-background), var(--sklearn-color-text-on-default-background));\n",
       "  background-size: 2px 100%;\n",
       "  background-repeat: no-repeat;\n",
       "  background-position: center center;\n",
       "}\n",
       "\n",
       "/* Parallel-specific style estimator block */\n",
       "\n",
       "#sk-container-id-1 div.sk-parallel-item::after {\n",
       "  content: \"\";\n",
       "  width: 100%;\n",
       "  border-bottom: 2px solid var(--sklearn-color-text-on-default-background);\n",
       "  flex-grow: 1;\n",
       "}\n",
       "\n",
       "#sk-container-id-1 div.sk-parallel {\n",
       "  display: flex;\n",
       "  align-items: stretch;\n",
       "  justify-content: center;\n",
       "  background-color: var(--sklearn-color-background);\n",
       "  position: relative;\n",
       "}\n",
       "\n",
       "#sk-container-id-1 div.sk-parallel-item {\n",
       "  display: flex;\n",
       "  flex-direction: column;\n",
       "}\n",
       "\n",
       "#sk-container-id-1 div.sk-parallel-item:first-child::after {\n",
       "  align-self: flex-end;\n",
       "  width: 50%;\n",
       "}\n",
       "\n",
       "#sk-container-id-1 div.sk-parallel-item:last-child::after {\n",
       "  align-self: flex-start;\n",
       "  width: 50%;\n",
       "}\n",
       "\n",
       "#sk-container-id-1 div.sk-parallel-item:only-child::after {\n",
       "  width: 0;\n",
       "}\n",
       "\n",
       "/* Serial-specific style estimator block */\n",
       "\n",
       "#sk-container-id-1 div.sk-serial {\n",
       "  display: flex;\n",
       "  flex-direction: column;\n",
       "  align-items: center;\n",
       "  background-color: var(--sklearn-color-background);\n",
       "  padding-right: 1em;\n",
       "  padding-left: 1em;\n",
       "}\n",
       "\n",
       "\n",
       "/* Toggleable style: style used for estimator/Pipeline/ColumnTransformer box that is\n",
       "clickable and can be expanded/collapsed.\n",
       "- Pipeline and ColumnTransformer use this feature and define the default style\n",
       "- Estimators will overwrite some part of the style using the `sk-estimator` class\n",
       "*/\n",
       "\n",
       "/* Pipeline and ColumnTransformer style (default) */\n",
       "\n",
       "#sk-container-id-1 div.sk-toggleable {\n",
       "  /* Default theme specific background. It is overwritten whether we have a\n",
       "  specific estimator or a Pipeline/ColumnTransformer */\n",
       "  background-color: var(--sklearn-color-background);\n",
       "}\n",
       "\n",
       "/* Toggleable label */\n",
       "#sk-container-id-1 label.sk-toggleable__label {\n",
       "  cursor: pointer;\n",
       "  display: block;\n",
       "  width: 100%;\n",
       "  margin-bottom: 0;\n",
       "  padding: 0.5em;\n",
       "  box-sizing: border-box;\n",
       "  text-align: center;\n",
       "}\n",
       "\n",
       "#sk-container-id-1 label.sk-toggleable__label-arrow:before {\n",
       "  /* Arrow on the left of the label */\n",
       "  content: \"▸\";\n",
       "  float: left;\n",
       "  margin-right: 0.25em;\n",
       "  color: var(--sklearn-color-icon);\n",
       "}\n",
       "\n",
       "#sk-container-id-1 label.sk-toggleable__label-arrow:hover:before {\n",
       "  color: var(--sklearn-color-text);\n",
       "}\n",
       "\n",
       "/* Toggleable content - dropdown */\n",
       "\n",
       "#sk-container-id-1 div.sk-toggleable__content {\n",
       "  max-height: 0;\n",
       "  max-width: 0;\n",
       "  overflow: hidden;\n",
       "  text-align: left;\n",
       "  /* unfitted */\n",
       "  background-color: var(--sklearn-color-unfitted-level-0);\n",
       "}\n",
       "\n",
       "#sk-container-id-1 div.sk-toggleable__content.fitted {\n",
       "  /* fitted */\n",
       "  background-color: var(--sklearn-color-fitted-level-0);\n",
       "}\n",
       "\n",
       "#sk-container-id-1 div.sk-toggleable__content pre {\n",
       "  margin: 0.2em;\n",
       "  border-radius: 0.25em;\n",
       "  color: var(--sklearn-color-text);\n",
       "  /* unfitted */\n",
       "  background-color: var(--sklearn-color-unfitted-level-0);\n",
       "}\n",
       "\n",
       "#sk-container-id-1 div.sk-toggleable__content.fitted pre {\n",
       "  /* unfitted */\n",
       "  background-color: var(--sklearn-color-fitted-level-0);\n",
       "}\n",
       "\n",
       "#sk-container-id-1 input.sk-toggleable__control:checked~div.sk-toggleable__content {\n",
       "  /* Expand drop-down */\n",
       "  max-height: 200px;\n",
       "  max-width: 100%;\n",
       "  overflow: auto;\n",
       "}\n",
       "\n",
       "#sk-container-id-1 input.sk-toggleable__control:checked~label.sk-toggleable__label-arrow:before {\n",
       "  content: \"▾\";\n",
       "}\n",
       "\n",
       "/* Pipeline/ColumnTransformer-specific style */\n",
       "\n",
       "#sk-container-id-1 div.sk-label input.sk-toggleable__control:checked~label.sk-toggleable__label {\n",
       "  color: var(--sklearn-color-text);\n",
       "  background-color: var(--sklearn-color-unfitted-level-2);\n",
       "}\n",
       "\n",
       "#sk-container-id-1 div.sk-label.fitted input.sk-toggleable__control:checked~label.sk-toggleable__label {\n",
       "  background-color: var(--sklearn-color-fitted-level-2);\n",
       "}\n",
       "\n",
       "/* Estimator-specific style */\n",
       "\n",
       "/* Colorize estimator box */\n",
       "#sk-container-id-1 div.sk-estimator input.sk-toggleable__control:checked~label.sk-toggleable__label {\n",
       "  /* unfitted */\n",
       "  background-color: var(--sklearn-color-unfitted-level-2);\n",
       "}\n",
       "\n",
       "#sk-container-id-1 div.sk-estimator.fitted input.sk-toggleable__control:checked~label.sk-toggleable__label {\n",
       "  /* fitted */\n",
       "  background-color: var(--sklearn-color-fitted-level-2);\n",
       "}\n",
       "\n",
       "#sk-container-id-1 div.sk-label label.sk-toggleable__label,\n",
       "#sk-container-id-1 div.sk-label label {\n",
       "  /* The background is the default theme color */\n",
       "  color: var(--sklearn-color-text-on-default-background);\n",
       "}\n",
       "\n",
       "/* On hover, darken the color of the background */\n",
       "#sk-container-id-1 div.sk-label:hover label.sk-toggleable__label {\n",
       "  color: var(--sklearn-color-text);\n",
       "  background-color: var(--sklearn-color-unfitted-level-2);\n",
       "}\n",
       "\n",
       "/* Label box, darken color on hover, fitted */\n",
       "#sk-container-id-1 div.sk-label.fitted:hover label.sk-toggleable__label.fitted {\n",
       "  color: var(--sklearn-color-text);\n",
       "  background-color: var(--sklearn-color-fitted-level-2);\n",
       "}\n",
       "\n",
       "/* Estimator label */\n",
       "\n",
       "#sk-container-id-1 div.sk-label label {\n",
       "  font-family: monospace;\n",
       "  font-weight: bold;\n",
       "  display: inline-block;\n",
       "  line-height: 1.2em;\n",
       "}\n",
       "\n",
       "#sk-container-id-1 div.sk-label-container {\n",
       "  text-align: center;\n",
       "}\n",
       "\n",
       "/* Estimator-specific */\n",
       "#sk-container-id-1 div.sk-estimator {\n",
       "  font-family: monospace;\n",
       "  border: 1px dotted var(--sklearn-color-border-box);\n",
       "  border-radius: 0.25em;\n",
       "  box-sizing: border-box;\n",
       "  margin-bottom: 0.5em;\n",
       "  /* unfitted */\n",
       "  background-color: var(--sklearn-color-unfitted-level-0);\n",
       "}\n",
       "\n",
       "#sk-container-id-1 div.sk-estimator.fitted {\n",
       "  /* fitted */\n",
       "  background-color: var(--sklearn-color-fitted-level-0);\n",
       "}\n",
       "\n",
       "/* on hover */\n",
       "#sk-container-id-1 div.sk-estimator:hover {\n",
       "  /* unfitted */\n",
       "  background-color: var(--sklearn-color-unfitted-level-2);\n",
       "}\n",
       "\n",
       "#sk-container-id-1 div.sk-estimator.fitted:hover {\n",
       "  /* fitted */\n",
       "  background-color: var(--sklearn-color-fitted-level-2);\n",
       "}\n",
       "\n",
       "/* Specification for estimator info (e.g. \"i\" and \"?\") */\n",
       "\n",
       "/* Common style for \"i\" and \"?\" */\n",
       "\n",
       ".sk-estimator-doc-link,\n",
       "a:link.sk-estimator-doc-link,\n",
       "a:visited.sk-estimator-doc-link {\n",
       "  float: right;\n",
       "  font-size: smaller;\n",
       "  line-height: 1em;\n",
       "  font-family: monospace;\n",
       "  background-color: var(--sklearn-color-background);\n",
       "  border-radius: 1em;\n",
       "  height: 1em;\n",
       "  width: 1em;\n",
       "  text-decoration: none !important;\n",
       "  margin-left: 1ex;\n",
       "  /* unfitted */\n",
       "  border: var(--sklearn-color-unfitted-level-1) 1pt solid;\n",
       "  color: var(--sklearn-color-unfitted-level-1);\n",
       "}\n",
       "\n",
       ".sk-estimator-doc-link.fitted,\n",
       "a:link.sk-estimator-doc-link.fitted,\n",
       "a:visited.sk-estimator-doc-link.fitted {\n",
       "  /* fitted */\n",
       "  border: var(--sklearn-color-fitted-level-1) 1pt solid;\n",
       "  color: var(--sklearn-color-fitted-level-1);\n",
       "}\n",
       "\n",
       "/* On hover */\n",
       "div.sk-estimator:hover .sk-estimator-doc-link:hover,\n",
       ".sk-estimator-doc-link:hover,\n",
       "div.sk-label-container:hover .sk-estimator-doc-link:hover,\n",
       ".sk-estimator-doc-link:hover {\n",
       "  /* unfitted */\n",
       "  background-color: var(--sklearn-color-unfitted-level-3);\n",
       "  color: var(--sklearn-color-background);\n",
       "  text-decoration: none;\n",
       "}\n",
       "\n",
       "div.sk-estimator.fitted:hover .sk-estimator-doc-link.fitted:hover,\n",
       ".sk-estimator-doc-link.fitted:hover,\n",
       "div.sk-label-container:hover .sk-estimator-doc-link.fitted:hover,\n",
       ".sk-estimator-doc-link.fitted:hover {\n",
       "  /* fitted */\n",
       "  background-color: var(--sklearn-color-fitted-level-3);\n",
       "  color: var(--sklearn-color-background);\n",
       "  text-decoration: none;\n",
       "}\n",
       "\n",
       "/* Span, style for the box shown on hovering the info icon */\n",
       ".sk-estimator-doc-link span {\n",
       "  display: none;\n",
       "  z-index: 9999;\n",
       "  position: relative;\n",
       "  font-weight: normal;\n",
       "  right: .2ex;\n",
       "  padding: .5ex;\n",
       "  margin: .5ex;\n",
       "  width: min-content;\n",
       "  min-width: 20ex;\n",
       "  max-width: 50ex;\n",
       "  color: var(--sklearn-color-text);\n",
       "  box-shadow: 2pt 2pt 4pt #999;\n",
       "  /* unfitted */\n",
       "  background: var(--sklearn-color-unfitted-level-0);\n",
       "  border: .5pt solid var(--sklearn-color-unfitted-level-3);\n",
       "}\n",
       "\n",
       ".sk-estimator-doc-link.fitted span {\n",
       "  /* fitted */\n",
       "  background: var(--sklearn-color-fitted-level-0);\n",
       "  border: var(--sklearn-color-fitted-level-3);\n",
       "}\n",
       "\n",
       ".sk-estimator-doc-link:hover span {\n",
       "  display: block;\n",
       "}\n",
       "\n",
       "/* \"?\"-specific style due to the `<a>` HTML tag */\n",
       "\n",
       "#sk-container-id-1 a.estimator_doc_link {\n",
       "  float: right;\n",
       "  font-size: 1rem;\n",
       "  line-height: 1em;\n",
       "  font-family: monospace;\n",
       "  background-color: var(--sklearn-color-background);\n",
       "  border-radius: 1rem;\n",
       "  height: 1rem;\n",
       "  width: 1rem;\n",
       "  text-decoration: none;\n",
       "  /* unfitted */\n",
       "  color: var(--sklearn-color-unfitted-level-1);\n",
       "  border: var(--sklearn-color-unfitted-level-1) 1pt solid;\n",
       "}\n",
       "\n",
       "#sk-container-id-1 a.estimator_doc_link.fitted {\n",
       "  /* fitted */\n",
       "  border: var(--sklearn-color-fitted-level-1) 1pt solid;\n",
       "  color: var(--sklearn-color-fitted-level-1);\n",
       "}\n",
       "\n",
       "/* On hover */\n",
       "#sk-container-id-1 a.estimator_doc_link:hover {\n",
       "  /* unfitted */\n",
       "  background-color: var(--sklearn-color-unfitted-level-3);\n",
       "  color: var(--sklearn-color-background);\n",
       "  text-decoration: none;\n",
       "}\n",
       "\n",
       "#sk-container-id-1 a.estimator_doc_link.fitted:hover {\n",
       "  /* fitted */\n",
       "  background-color: var(--sklearn-color-fitted-level-3);\n",
       "}\n",
       "</style><div id=\"sk-container-id-1\" class=\"sk-top-container\"><div class=\"sk-text-repr-fallback\"><pre>GaussianNB()</pre><b>In a Jupyter environment, please rerun this cell to show the HTML representation or trust the notebook. <br />On GitHub, the HTML representation is unable to render, please try loading this page with nbviewer.org.</b></div><div class=\"sk-container\" hidden><div class=\"sk-item\"><div class=\"sk-estimator fitted sk-toggleable\"><input class=\"sk-toggleable__control sk-hidden--visually\" id=\"sk-estimator-id-1\" type=\"checkbox\" checked><label for=\"sk-estimator-id-1\" class=\"sk-toggleable__label fitted sk-toggleable__label-arrow fitted\">&nbsp;&nbsp;GaussianNB<a class=\"sk-estimator-doc-link fitted\" rel=\"noreferrer\" target=\"_blank\" href=\"https://scikit-learn.org/1.4/modules/generated/sklearn.naive_bayes.GaussianNB.html\">?<span>Documentation for GaussianNB</span></a><span class=\"sk-estimator-doc-link fitted\">i<span>Fitted</span></span></label><div class=\"sk-toggleable__content fitted\"><pre>GaussianNB()</pre></div> </div></div></div></div>"
      ],
      "text/plain": [
       "GaussianNB()"
      ]
     },
     "execution_count": 57,
     "metadata": {},
     "output_type": "execute_result"
    }
   ],
   "source": [
    "model.fit(Xtrain,ytrain)"
   ]
  },
  {
   "cell_type": "markdown",
   "id": "d7a06bb3-a2d6-4c48-86b3-d883d9665a33",
   "metadata": {
    "panel-layout": {
     "height": 43.0625,
     "visible": true,
     "width": 100
    }
   },
   "source": [
    "#### a. What would be the predicted prostate cancer class for these three patients when you apply Naïve Bayes?"
   ]
  },
  {
   "cell_type": "code",
   "execution_count": 60,
   "id": "ea304cae-07cc-4b73-9b36-57cb73eb268b",
   "metadata": {
    "panel-layout": {
     "height": 728,
     "visible": true,
     "width": 100
    }
   },
   "outputs": [
    {
     "data": {
      "text/plain": [
       "array([1, 0, 1])"
      ]
     },
     "execution_count": 60,
     "metadata": {},
     "output_type": "execute_result"
    }
   ],
   "source": [
    "new_patients = pd.DataFrame({\n",
    "    'Gender': [0, 1, 1],  # Female, Male, Male\n",
    "    'Smoking': [1, 0, 1],  # Yes, No, Yes\n",
    "    'Prostate Volume': [2, 1, 3],  # Medium, Low, High\n",
    "    'PSA Level': [3, 2, 1],  # High, Medium, Low\n",
    "    'Age': [49, 64, 75]\n",
    "})\n",
    "predictions = model.predict(new_patients)\n",
    "predictions\n"
   ]
  },
  {
   "cell_type": "code",
   "execution_count": 62,
   "id": "bace1bb6-7850-49c8-8ccb-1ae0ee9d60fe",
   "metadata": {},
   "outputs": [],
   "source": [
    "# the prediction 1 referes to Protate cancer 'Yes' and 0 is 'No'. Therefore the new data would look like\n",
    "#Gender\tSmoking\tProstate Volume\tPSA Level\tAge\tProstate Cancer\n",
    "#Female\tYes\t    Medium\t        High\t    49\tYes\n",
    "#Male\tNo\t    Low\t            Medium\t    64\tNo\n",
    "#Male\tYes\t    High\t        Low\t        75\tYes\n",
    "\n",
    "#So we can conclude patient 1 and 3 are more likely to have prostate cancer\n"
   ]
  },
  {
   "cell_type": "markdown",
   "id": "3ac609bc-d08e-40b6-865c-0ab0ce4bb9f6",
   "metadata": {
    "panel-layout": {
     "height": 43.0625,
     "visible": true,
     "width": 100
    }
   },
   "source": [
    "#### b. Find accuracy, recall, and precision"
   ]
  },
  {
   "cell_type": "code",
   "execution_count": 65,
   "id": "81e175de-d210-4b1c-949a-d5f9a1a8f7c0",
   "metadata": {
    "panel-layout": {
     "height": 701,
     "visible": true,
     "width": 100
    }
   },
   "outputs": [
    {
     "name": "stdout",
     "output_type": "stream",
     "text": [
      "accuracy= 0.8 \n",
      "precision= 0.75 \n",
      "recall = 1.0\n"
     ]
    }
   ],
   "source": [
    "#solution 1\n",
    "\n",
    "ypred=model.predict(Xtest)\n",
    "accuracy = accuracy_score(ytest, ypred)\n",
    "precision = precision_score(ytest, ypred)\n",
    "recall = recall_score(ytest, ypred)\n",
    "\n",
    "print(f'accuracy= {accuracy} \\nprecision= {precision} \\nrecall = {recall}')"
   ]
  },
  {
   "cell_type": "code",
   "execution_count": 67,
   "id": "69f7c5c6-d7c7-4621-81b1-b9118ed63f31",
   "metadata": {
    "panel-layout": {
     "height": 701,
     "visible": true,
     "width": 100
    }
   },
   "outputs": [
    {
     "name": "stdout",
     "output_type": "stream",
     "text": [
      "              precision    recall  f1-score   support\n",
      "\n",
      "           0       0.50      1.00      0.67         2\n",
      "           1       1.00      0.75      0.86         8\n",
      "\n",
      "    accuracy                           0.80        10\n",
      "   macro avg       0.75      0.88      0.76        10\n",
      "weighted avg       0.90      0.80      0.82        10\n",
      "\n"
     ]
    }
   ],
   "source": [
    "#solution 2\n",
    "report = classification_report(ypred, ytest)\n",
    "print(report)"
   ]
  },
  {
   "cell_type": "markdown",
   "id": "592c5f06-4714-4254-8937-131d39c4cae4",
   "metadata": {
    "panel-layout": {
     "height": 43.0625,
     "visible": true,
     "width": 100
    }
   },
   "source": [
    "#### c. Show confusion matrix. "
   ]
  },
  {
   "cell_type": "code",
   "execution_count": 70,
   "id": "282517dc-8928-4973-8098-6fc447c2095e",
   "metadata": {},
   "outputs": [
    {
     "data": {
      "image/png": "[encoded data removed]",
      "text/plain": [
       "<Figure size 640x480 with 2 Axes>"
      ]
     },
     "metadata": {},
     "output_type": "display_data"
    }
   ],
   "source": [
    "conf_matrix = confusion_matrix(ytest, ypred)\n",
    "sns.heatmap(conf_matrix, cmap= colors, center= 1,  annot=True);"
   ]
  },
  {
   "cell_type": "markdown",
   "id": "5e9a814e-6898-489c-b890-323ef4c4343b",
   "metadata": {
    "panel-layout": {
     "height": 104.03125,
     "visible": true,
     "width": 100
    }
   },
   "source": [
    "### Q9. Given the following 10 comments related to prostate cancer and their corresponding labels (1 = Has Cancer, 0 = No Cancer), use the Naive Bayes algorithm to build a classifier. Then, apply the trained model to predict whether the new comment, \"The doctor noticed some abnormalities in my tests, and I'm worried it could be prostate cancer,\" indicates that the patient has prostate cancer (class = 1) or not (class = 0). Provide the prediction result (Is the new comment associated with class=1 or class=0)? "
   ]
  },
  {
   "cell_type": "code",
   "execution_count": 73,
   "id": "0b73e575-72bb-409d-aba8-e23ae48daa79",
   "metadata": {},
   "outputs": [
    {
     "name": "stderr",
     "output_type": "stream",
     "text": [
      "[nltk_data] Downloading package punkt to\n",
      "[nltk_data]     /Users/shraddhasaraf/nltk_data...\n",
      "[nltk_data]   Package punkt is already up-to-date!\n",
      "[nltk_data] Downloading package stopwords to\n",
      "[nltk_data]     /Users/shraddhasaraf/nltk_data...\n",
      "[nltk_data]   Package stopwords is already up-to-date!\n"
     ]
    }
   ],
   "source": [
    "# Download NLTK data\n",
    "nltk.download('punkt')  \n",
    "nltk.download('stopwords') \n",
    "stemmer= PorterStemmer()\n",
    "stop_words = set(stopwords.words('english'))"
   ]
  },
  {
   "cell_type": "markdown",
   "id": "e2aa679a-e89a-470b-a77f-7f1a16078cae",
   "metadata": {
    "panel-layout": {
     "height": 40.71875,
     "visible": true,
     "width": 100
    }
   },
   "source": [
    "##### Assumption: Here we are going with an assumption the patients who are recommended more tests or are diagnosed with high prostate volume or PSA level are more likely to have prostate cancer"
   ]
  },
  {
   "cell_type": "code",
   "execution_count": 76,
   "id": "0fbc9c74-2080-410e-bb09-8b6d96fd2489",
   "metadata": {},
   "outputs": [],
   "source": [
    "# Mapping the data as per the above assumption.\n",
    "\n",
    "data = [\n",
    "    (\"My doctor told me the biopsy confirmed it is prostate cancer.\", 1),\n",
    "    (\"I've been experiencing symptoms like frequent urination and pain in my lower back, and I'm worried it could be cancer.\", 0),\n",
    "\t(\"The PSA levels came back high, and my doctor recommended further testing.\", 1),\n",
    "\t(\"I feel completely fine, but my family history of cancer makes me nervous.\", 0),\n",
    "\t(\"After the scan, they said there’s no sign of cancer, which was a huge relief.\", 0),\n",
    "\t(\"I started treatment for prostate cancer last month, and it's been a difficult journey.\", 1),\n",
    "    (\"The doctor mentioned that my prostate volume was enlarged, which could be a risk factor for cancer.\", 1),\n",
    "\t(\"I’m not sure if my symptoms are cancer-related or just due to aging.\", 0),\n",
    "    (\"The specialist said it’s best to do another round of testing to be sure whether it’s cancer or not.\", 1),\n",
    "\t(\"I received the all-clear after my checkup, and they confirmed no signs of cancer.\",  0)\n",
    "]"
   ]
  },
  {
   "cell_type": "code",
   "execution_count": 78,
   "id": "1bf9c086-7d1a-4dfb-9770-35ad2b4fa8ed",
   "metadata": {},
   "outputs": [],
   "source": [
    "def preprocess(sentence):\n",
    "    words = word_tokenize(sentence.lower())\n",
    "    cleaned_tokens = [re.sub(r'[^\\w\\s]', '', word) for word in words if re.sub(r'[^\\w\\s]', '', word)] #remove punctuations using regex\n",
    "    return {stemmer.stem(word): True for word in cleaned_tokens if word not in stop_words} #remove stop words and maintain the stem word"
   ]
  },
  {
   "cell_type": "code",
   "execution_count": 80,
   "id": "6b62930e-4b3e-4f33-8a88-f21724b84141",
   "metadata": {
    "panel-layout": {
     "height": 701,
     "visible": true,
     "width": 100
    }
   },
   "outputs": [
    {
     "name": "stdout",
     "output_type": "stream",
     "text": [
      "The feedback 'The doctor noticed some abnormalities in my tests, and I'm worried it could be prostate cancer.' is classified as '1'\n"
     ]
    }
   ],
   "source": [
    "train_data = [(preprocess(comments), label) for comments, label in data]\n",
    "classifier = NaiveBayesClassifier.train(train_data)\n",
    "def predict(comments):\n",
    "    processed_comment = preprocess(comments)\n",
    "    return classifier.classify(processed_comment)\n",
    "\n",
    "new_comment = \"The doctor noticed some abnormalities in my tests, and I'm worried it could be prostate cancer.\"\n",
    "predicted_label = predict(new_comment)\n",
    "\n",
    "print(f\"The feedback '{new_comment}' is classified as '{predicted_label}'\")"
   ]
  },
  {
   "cell_type": "code",
   "execution_count": 84,
   "id": "2821698f-6534-4939-b344-8ebe87f7006b",
   "metadata": {},
   "outputs": [],
   "source": [
    "#Here the machine has been trained and the result it classifies based on this new comment is 1\n",
    "# which means the person is more likely to have prostate cancer"
   ]
  }
 ],
 "metadata": {
  "kernelspec": {
   "display_name": "Python 3 (ipykernel)",
   "language": "python",
   "name": "python3"
  },
  "language_info": {
   "codemirror_mode": {
    "name": "ipython",
    "version": 3
   },
   "file_extension": ".py",
   "mimetype": "text/x-python",
   "name": "python",
   "nbconvert_exporter": "python",
   "pygments_lexer": "ipython3",
   "version": "3.12.4"
  },
  "panel-cell-order": [
   "b3f86aa6-4d95-4b30-a0dd-cc894ef2332e",
   "a556e3e4-5f87-481b-a9a6-600a0b0ff7a0",
   "33c247f9-f85b-491e-b0fd-29375c8f0e6e",
   "d6d448b8-eb9e-4c86-ac7d-8333209d25fe",
   "24d7c071-291f-44bb-81b2-f1b4c6a1f3b5",
   "2ff31b76-d664-4a5a-80c9-c6c85f95447b",
   "1b272300-7639-4600-8b8d-4a634b8e38a7",
   "a2452342-fc5b-48e6-9b3b-3e62e9aabdc6",
   "7dde85ba-846e-42e8-9453-96fb987e5a62",
   "fa07af43-f5d0-4a03-9dc0-7251b31d15a6",
   "8768b18d-c4a2-49b9-918e-d1933be05ea1",
   "f1cbab90-e88e-4b8f-8906-e7e044027a17",
   "c8983405-d64f-4e6d-a5cd-f73741d46afc",
   "3ddac208-d7c6-426f-acec-be258496b9fa",
   "7dc0159d-777e-40da-8866-e34c24f9f2f4",
   "1ac6be20-247a-4abf-808a-e418e860bea9",
   "7f1ee6b5-787c-467b-a6bf-10d903c94618",
   "f22eb851-926e-43f5-a593-beae1d1654fb",
   "cabf1f51-c570-4109-b6b8-d6a82b99f9ff",
   "4d9cb47e-99bc-471b-97a1-e6bbd50c5da0",
   "726253d3-2049-4646-bf10-95b467a9c963",
   "d7a06bb3-a2d6-4c48-86b3-d883d9665a33",
   "ea304cae-07cc-4b73-9b36-57cb73eb268b",
   "3ac609bc-d08e-40b6-865c-0ab0ce4bb9f6",
   "81e175de-d210-4b1c-949a-d5f9a1a8f7c0",
   "69f7c5c6-d7c7-4621-81b1-b9118ed63f31",
   "592c5f06-4714-4254-8937-131d39c4cae4",
   "5e9a814e-6898-489c-b890-323ef4c4343b",
   "e2aa679a-e89a-470b-a77f-7f1a16078cae",
   "6b62930e-4b3e-4f33-8a88-f21724b84141"
  ]
 },
 "nbformat": 4,
 "nbformat_minor": 5
}
